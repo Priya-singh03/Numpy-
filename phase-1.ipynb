{
 "cells": [
  {
   "cell_type": "code",
   "execution_count": 2,
   "id": "2cb7f37c",
   "metadata": {},
   "outputs": [],
   "source": [
    "import numpy as np"
   ]
  },
  {
   "cell_type": "markdown",
   "id": "1b598349",
   "metadata": {},
   "source": [
    "creating arrays from list"
   ]
  },
  {
   "cell_type": "code",
   "execution_count": 5,
   "id": "d02e4829",
   "metadata": {},
   "outputs": [
    {
     "name": "stdout",
     "output_type": "stream",
     "text": [
      "[1 2 3 4 5]\n",
      "[[1 2 3]\n",
      " [4 5 6]]\n"
     ]
    }
   ],
   "source": [
    "arr_id = np.array([1, 2, 3, 4, 5])\n",
    "print(arr_id)\n",
    "\n",
    "arr_2d = np.array([[1,2,3],[4,5,6]])\n",
    "print(arr_2d)"
   ]
  },
  {
   "cell_type": "markdown",
   "id": "bc3c642f",
   "metadata": {},
   "source": [
    "### List vs numpy array"
   ]
  },
  {
   "cell_type": "code",
   "execution_count": 7,
   "id": "8fa265c5",
   "metadata": {},
   "outputs": [
    {
     "name": "stdout",
     "output_type": "stream",
     "text": [
      "python list multiplication  [1, 2, 3, 4, 5, 1, 2, 3, 4, 5]\n",
      "Python array multiplication  [ 2  4  6  8 10]\n",
      "\n",
      " List operation time:  0.144944429397583\n",
      "\n",
      " Numpy operation time:  0.009377002716064453\n"
     ]
    }
   ],
   "source": [
    "py_list = [1, 2, 3, 4, 5]\n",
    "print(\"python list multiplication \", py_list *2)\n",
    "\n",
    "np_array = np.array([1, 2, 3, 4, 5]) # element wise multiplication\n",
    "print(\"Python array multiplication \", np_array *2)\n",
    "\n",
    "import time\n",
    "start = time.time()\n",
    "py_list = [i*2 for i in range(1000000)]\n",
    "print(\"\\n List operation time: \", time.time() - start)\n",
    "\n",
    "start = time.time()\n",
    "np_array = np.arange(1000000) *2\n",
    "print(\"\\n Numpy operation time: \", time.time() - start)\n",
    "\n"
   ]
  },
  {
   "cell_type": "markdown",
   "id": "2bbd71cb",
   "metadata": {},
   "source": [
    "creating array from scratch"
   ]
  },
  {
   "cell_type": "code",
   "execution_count": null,
   "id": "27807122",
   "metadata": {},
   "outputs": [
    {
     "name": "stdout",
     "output_type": "stream",
     "text": [
      "\n",
      " Array of zeros: \n",
      " [[0. 0. 0. 0.]\n",
      " [0. 0. 0. 0.]\n",
      " [0. 0. 0. 0.]]\n",
      "\n",
      " Array of ones: \n",
      " [[1. 1. 1.]\n",
      " [1. 1. 1.]]\n",
      "\n",
      " Array of full: \n",
      " [[7 7]\n",
      " [7 7]]\n",
      "\n",
      " Array of random: \n",
      " [[0.64395591 0.89419122 0.37637723]\n",
      " [0.60976548 0.62094001 0.56137889]]\n",
      "\n",
      " Array of sequence: \n",
      " [0 2 4 6 8]\n"
     ]
    }
   ],
   "source": [
    "zeros = np.zeros((3, 4))\n",
    "print(\"\\n Array of zeros: \\n\", zeros)\n",
    "\n",
    "ones = np.ones((2,3))\n",
    "print(\"\\n Array of ones: \\n\", ones)\n",
    "\n",
    "full = np.full((2,2),7)\n",
    "print(\"\\n Array of full: \\n\", full)\n",
    "\n",
    "random = np.random.random((2,3))\n",
    "print(\"\\n Array of random: \\n\", random)\n",
    "\n",
    "sequence = np.arange(0, 10, 2)\n",
    "print(\"\\n Array of sequence: \\n\", sequence)\n",
    "\n"
   ]
  },
  {
   "cell_type": "markdown",
   "id": "0ebb687a",
   "metadata": {},
   "source": [
    "### Vector , Matrix and Tensor"
   ]
  },
  {
   "cell_type": "code",
   "execution_count": 13,
   "id": "8ffe09be",
   "metadata": {},
   "outputs": [
    {
     "name": "stdout",
     "output_type": "stream",
     "text": [
      "\n",
      " Vector: \n",
      " [1 2 3]\n",
      "\n",
      " Matrix: \n",
      " [[1 2 3]\n",
      " [4 5 6]\n",
      " [7 8 9]]\n",
      "\n",
      " Tensor: \n",
      " [[[1 2]\n",
      "  [3 4]]\n",
      "\n",
      " [[5 6]\n",
      "  [7 8]]]\n"
     ]
    }
   ],
   "source": [
    "vector = np.array([1, 2, 3])\n",
    "print(\"\\n Vector: \\n\", vector)\n",
    "\n",
    "matrix = np.array([[1, 2, 3], [4, 5, 6], [7, 8, 9]])\n",
    "print(\"\\n Matrix: \\n\", matrix)\n",
    "\n",
    "tensor = np.array([[[1, 2], [3,4]],\n",
    "                   [[5, 6], [7, 8]]])\n",
    "print(\"\\n Tensor: \\n\", tensor)\n"
   ]
  },
  {
   "cell_type": "markdown",
   "id": "98685093",
   "metadata": {},
   "source": [
    "Array properties"
   ]
  },
  {
   "cell_type": "code",
   "execution_count": 20,
   "id": "115d1893",
   "metadata": {},
   "outputs": [
    {
     "name": "stdout",
     "output_type": "stream",
     "text": [
      "shape (2, 3)\n",
      "dimension 2\n",
      "size 6\n",
      "data type int64\n"
     ]
    }
   ],
   "source": [
    "arr = np.array([[1, 2,3],\n",
    "               [4, 5, 6]])\n",
    "print(\"shape\" , arr.shape)\n",
    "print(\"dimension\", arr.ndim)\n",
    "print(\"size\", arr.size)\n",
    "print(\"data type\", arr.dtype)"
   ]
  },
  {
   "cell_type": "markdown",
   "id": "de59f9f0",
   "metadata": {},
   "source": [
    "Array Reshaping "
   ]
  },
  {
   "cell_type": "code",
   "execution_count": 27,
   "id": "ba5d2810",
   "metadata": {},
   "outputs": [
    {
     "name": "stdout",
     "output_type": "stream",
     "text": [
      "Original array: [ 0  1  2  3  4  5  6  7  8  9 10 11]\n",
      "\n",
      " Reshaped array  [[ 0  1  2  3]\n",
      " [ 4  5  6  7]\n",
      " [ 8  9 10 11]]\n",
      "\n",
      " Flattened array  [ 0  1  2  3  4  5  6  7  8  9 10 11]\n",
      "\n",
      " Raveled array  [ 0  1  2  3  4  5  6  7  8  9 10 11]\n",
      "/n Transposed array  [[ 0  4  8]\n",
      " [ 1  5  9]\n",
      " [ 2  6 10]\n",
      " [ 3  7 11]]\n"
     ]
    }
   ],
   "source": [
    "arr = np.arange(12)\n",
    "print(\"Original array:\", arr)\n",
    "\n",
    "reshaped = arr.reshape((3, 4))\n",
    "print(\"\\n Reshaped array \", reshaped)\n",
    "\n",
    "flattened = reshaped.flatten()\n",
    "print(\"\\n Flattened array \", flattened)\n",
    "\n",
    "# ravel (returns view, instead of copy)\n",
    "raveled = reshaped.ravel()\n",
    "print(\"\\n Raveled array \", raveled)\n",
    "\n",
    "#Transpose\n",
    "transposed = reshaped.T\n",
    "print(\"/n Transposed array \", transposed)\n"
   ]
  }
 ],
 "metadata": {
  "kernelspec": {
   "display_name": "venv",
   "language": "python",
   "name": "python3"
  },
  "language_info": {
   "codemirror_mode": {
    "name": "ipython",
    "version": 3
   },
   "file_extension": ".py",
   "mimetype": "text/x-python",
   "name": "python",
   "nbconvert_exporter": "python",
   "pygments_lexer": "ipython3",
   "version": "3.13.6"
  }
 },
 "nbformat": 4,
 "nbformat_minor": 5
}
