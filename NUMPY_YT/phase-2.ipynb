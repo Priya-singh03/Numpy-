{
 "cells": [
  {
   "cell_type": "markdown",
   "id": "931b3135",
   "metadata": {},
   "source": [
    "Numpy Array operations"
   ]
  },
  {
   "cell_type": "code",
   "execution_count": 1,
   "id": "50b54c7e",
   "metadata": {},
   "outputs": [],
   "source": [
    "import numpy as np"
   ]
  },
  {
   "cell_type": "code",
   "execution_count": 6,
   "id": "554e718e",
   "metadata": {},
   "outputs": [
    {
     "name": "stdout",
     "output_type": "stream",
     "text": [
      "Basic slicing  [3 4 5 6 7]\n",
      "Slicing with step  [3 5 7]\n",
      "Negative indexing 7\n"
     ]
    }
   ],
   "source": [
    "arr = np.array([1, 2, 3, 4, 5, 6, 7, 8, 9])\n",
    "print(\"Basic slicing \", arr[2:7])\n",
    "print(\"Slicing with step \", arr[2:7:2])\n",
    "print(\"Negative indexing\", arr[-3])\n",
    "\n"
   ]
  },
  {
   "cell_type": "code",
   "execution_count": 8,
   "id": "1ca59d69",
   "metadata": {},
   "outputs": [
    {
     "name": "stdout",
     "output_type": "stream",
     "text": [
      "Specific element  6\n",
      "Entire Row   [4 5 6]\n",
      "Entire Column  [2 5 8]\n"
     ]
    }
   ],
   "source": [
    "arr_2d = np.array([[1, 2, 3], [4, 5, 6], [7, 8, 9]])\n",
    "print(\"Specific element \", arr_2d[1, 2])\n",
    "print(\"Entire Row  \", arr_2d[1])\n",
    "print(\"Entire Column \", arr_2d[:, 1])\n"
   ]
  },
  {
   "cell_type": "markdown",
   "id": "dfb5bcfd",
   "metadata": {},
   "source": [
    "Sorting\n"
   ]
  },
  {
   "cell_type": "code",
   "execution_count": null,
   "id": "e2c83fda",
   "metadata": {},
   "outputs": [
    {
     "name": "stdout",
     "output_type": "stream",
     "text": [
      "sorted array  [1 2 3 7 9]\n",
      "2D sorted array by col [[1 3 7]\n",
      " [2 6 9]\n",
      " [4 5 8]]\n",
      "2D sorted array by row [[3 2 1]\n",
      " [5 4 6]\n",
      " [9 7 8]]\n"
     ]
    }
   ],
   "source": [
    "unsorted = np.array([3, 7, 1, 9, 2])\n",
    "print(\"sorted array \", np.sort(unsorted))\n",
    "\n",
    "arr_2d_unsorted = np.array([[3, 7, 1], [9, 2, 6], [5, 4, 8]])\n",
    "print(\"2D sorted array by row\", np.sort(arr_2d_unsorted, axis=1))  # Sort each row\n",
    "print(\"2D sorted array by col\", np.sort(arr_2d_unsorted, axis=0))  # Sort each column"
   ]
  },
  {
   "cell_type": "markdown",
   "id": "725aa44a",
   "metadata": {},
   "source": [
    "## Filter"
   ]
  },
  {
   "cell_type": "code",
   "execution_count": 20,
   "id": "38b98bfa",
   "metadata": {},
   "outputs": [
    {
     "name": "stdout",
     "output_type": "stream",
     "text": [
      "Even numbers  [2 4 6 8]\n"
     ]
    }
   ],
   "source": [
    "numbers = np.array([1, 2, 3, 4, 5, 6, 7, 8, 9])\n",
    "even_number = numbers[numbers % 2 == 0]\n",
    "print(\"Even numbers \", even_number)"
   ]
  },
  {
   "cell_type": "markdown",
   "id": "1aaabace",
   "metadata": {},
   "source": [
    "Filter with mask"
   ]
  },
  {
   "cell_type": "code",
   "execution_count": 21,
   "id": "f1f641a3",
   "metadata": {},
   "outputs": [
    {
     "name": "stdout",
     "output_type": "stream",
     "text": [
      "Numbers greater than 5 [6 7 8 9]\n"
     ]
    }
   ],
   "source": [
    "mask = numbers > 5\n",
    "print(\"Numbers greater than 5\", numbers[mask])\n"
   ]
  },
  {
   "cell_type": "markdown",
   "id": "3ee2f287",
   "metadata": {},
   "source": [
    "##Fancy indexing vs np.where()"
   ]
  },
  {
   "cell_type": "code",
   "execution_count": 23,
   "id": "3eee82e1",
   "metadata": {},
   "outputs": [
    {
     "name": "stdout",
     "output_type": "stream",
     "text": [
      "Fancy indexing  [1 5 6]\n",
      "(array([5, 6, 7, 8]),)\n",
      "np.where()  [6 7 8 9]\n"
     ]
    }
   ],
   "source": [
    "indice = [0,4,5]\n",
    "print(\"Fancy indexing \", numbers[indice])\n",
    "\n",
    "where_result = np.where(numbers > 5)\n",
    "print(where_result)\n",
    "print(\"np.where() \", numbers[where_result])  # numbers greater than 5\n"
   ]
  },
  {
   "cell_type": "code",
   "execution_count": null,
   "id": "babd162b",
   "metadata": {},
   "outputs": [],
   "source": []
  },
  {
   "cell_type": "code",
   "execution_count": null,
   "id": "39518ef4",
   "metadata": {},
   "outputs": [
    {
     "name": "stdout",
     "output_type": "stream",
     "text": [
      "Condition array  (array([5, 6, 7, 8]),)\n"
     ]
    }
   ],
   "source": [
    "condition_array = np.where(numbers >5, numbers *2, numbers)\n",
    "print(\"Condition array \", condition_array)\n"
   ]
  }
 ],
 "metadata": {
  "kernelspec": {
   "display_name": "venv",
   "language": "python",
   "name": "python3"
  },
  "language_info": {
   "codemirror_mode": {
    "name": "ipython",
    "version": 3
   },
   "file_extension": ".py",
   "mimetype": "text/x-python",
   "name": "python",
   "nbconvert_exporter": "python",
   "pygments_lexer": "ipython3",
   "version": "3.13.7"
  }
 },
 "nbformat": 4,
 "nbformat_minor": 5
}
